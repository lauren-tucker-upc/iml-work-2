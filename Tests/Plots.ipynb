{
 "cells": [
  {
   "cell_type": "code",
   "execution_count": 40,
   "metadata": {
    "collapsed": true
   },
   "outputs": [],
   "source": [
    "import plotext as plx\n",
    "import pandas as pd\n",
    "\n",
    "data_path = '../data/processed/'\n"
   ]
  },
  {
   "cell_type": "code",
   "execution_count": 41,
   "outputs": [],
   "source": [
    "data = pd.read_csv(data_path + 'iris.csv', index_col=0)\n",
    "x = data.iloc[:,:4].to_numpy()\n",
    "y = data.iloc[:,4]"
   ],
   "metadata": {
    "collapsed": false
   }
  },
  {
   "cell_type": "code",
   "execution_count": 42,
   "outputs": [
    {
     "ename": "ValueError",
     "evalue": "Date Form should be: %d/%m/%Y",
     "output_type": "error",
     "traceback": [
      "\u001B[1;31m---------------------------------------------------------------------------\u001B[0m",
      "\u001B[1;31mValueError\u001B[0m                                Traceback (most recent call last)",
      "\u001B[1;32m~\\anaconda\\envs\\iml\\lib\\site-packages\\plotext\\_date.py\u001B[0m in \u001B[0;36mstring_to_time\u001B[1;34m(self, string, input_form, time0)\u001B[0m\n\u001B[0;32m     47\u001B[0m         \u001B[1;32mtry\u001B[0m\u001B[1;33m:\u001B[0m\u001B[1;33m\u001B[0m\u001B[0m\n\u001B[1;32m---> 48\u001B[1;33m             \u001B[1;32mreturn\u001B[0m \u001B[0mdt\u001B[0m\u001B[1;33m.\u001B[0m\u001B[0mstrptime\u001B[0m\u001B[1;33m(\u001B[0m\u001B[0mstring\u001B[0m\u001B[1;33m,\u001B[0m \u001B[0minput_form\u001B[0m\u001B[1;33m)\u001B[0m\u001B[1;33m.\u001B[0m\u001B[0mreplace\u001B[0m\u001B[1;33m(\u001B[0m\u001B[0mtzinfo\u001B[0m \u001B[1;33m=\u001B[0m \u001B[0mtz\u001B[0m\u001B[1;33m.\u001B[0m\u001B[0mutc\u001B[0m\u001B[1;33m)\u001B[0m\u001B[1;33m.\u001B[0m\u001B[0mtimestamp\u001B[0m\u001B[1;33m(\u001B[0m\u001B[1;33m)\u001B[0m \u001B[1;33m-\u001B[0m \u001B[0mtime0\u001B[0m\u001B[1;33m\u001B[0m\u001B[0m\n\u001B[0m\u001B[0;32m     49\u001B[0m         \u001B[1;32mexcept\u001B[0m\u001B[1;33m:\u001B[0m\u001B[1;33m\u001B[0m\u001B[0m\n",
      "\u001B[1;32m~\\anaconda\\envs\\iml\\lib\\_strptime.py\u001B[0m in \u001B[0;36m_strptime_datetime\u001B[1;34m(cls, data_string, format)\u001B[0m\n\u001B[0;32m    576\u001B[0m     format string.\"\"\"\n\u001B[1;32m--> 577\u001B[1;33m     \u001B[0mtt\u001B[0m\u001B[1;33m,\u001B[0m \u001B[0mfraction\u001B[0m\u001B[1;33m,\u001B[0m \u001B[0mgmtoff_fraction\u001B[0m \u001B[1;33m=\u001B[0m \u001B[0m_strptime\u001B[0m\u001B[1;33m(\u001B[0m\u001B[0mdata_string\u001B[0m\u001B[1;33m,\u001B[0m \u001B[0mformat\u001B[0m\u001B[1;33m)\u001B[0m\u001B[1;33m\u001B[0m\u001B[0m\n\u001B[0m\u001B[0;32m    578\u001B[0m     \u001B[0mtzname\u001B[0m\u001B[1;33m,\u001B[0m \u001B[0mgmtoff\u001B[0m \u001B[1;33m=\u001B[0m \u001B[0mtt\u001B[0m\u001B[1;33m[\u001B[0m\u001B[1;33m-\u001B[0m\u001B[1;36m2\u001B[0m\u001B[1;33m:\u001B[0m\u001B[1;33m]\u001B[0m\u001B[1;33m\u001B[0m\u001B[0m\n",
      "\u001B[1;32m~\\anaconda\\envs\\iml\\lib\\_strptime.py\u001B[0m in \u001B[0;36m_strptime\u001B[1;34m(data_string, format)\u001B[0m\n\u001B[0;32m    358\u001B[0m         raise ValueError(\"time data %r does not match format %r\" %\n\u001B[1;32m--> 359\u001B[1;33m                          (data_string, format))\n\u001B[0m\u001B[0;32m    360\u001B[0m     \u001B[1;32mif\u001B[0m \u001B[0mlen\u001B[0m\u001B[1;33m(\u001B[0m\u001B[0mdata_string\u001B[0m\u001B[1;33m)\u001B[0m \u001B[1;33m!=\u001B[0m \u001B[0mfound\u001B[0m\u001B[1;33m.\u001B[0m\u001B[0mend\u001B[0m\u001B[1;33m(\u001B[0m\u001B[1;33m)\u001B[0m\u001B[1;33m:\u001B[0m\u001B[1;33m\u001B[0m\u001B[0m\n",
      "\u001B[1;31mValueError\u001B[0m: time data 'Iris-setosa' does not match format '%d/%m/%Y'",
      "\nDuring handling of the above exception, another exception occurred:\n",
      "\u001B[1;31mValueError\u001B[0m                                Traceback (most recent call last)",
      "\u001B[1;32m~\\AppData\\Local\\Temp\\ipykernel_10324\\1950158926.py\u001B[0m in \u001B[0;36m<module>\u001B[1;34m\u001B[0m\n\u001B[1;32m----> 1\u001B[1;33m \u001B[0mplx\u001B[0m\u001B[1;33m.\u001B[0m\u001B[0mscatter\u001B[0m\u001B[1;33m(\u001B[0m\u001B[0mx\u001B[0m\u001B[1;33m,\u001B[0m \u001B[0my\u001B[0m\u001B[1;33m)\u001B[0m\u001B[1;33m\u001B[0m\u001B[0m\n\u001B[0m\u001B[0;32m      2\u001B[0m \u001B[0mplx\u001B[0m\u001B[1;33m.\u001B[0m\u001B[0mtitle\u001B[0m\u001B[1;33m(\u001B[0m\u001B[1;34m\"Scatter Plot\"\u001B[0m\u001B[1;33m)\u001B[0m\u001B[1;33m\u001B[0m\u001B[0m\n\u001B[0;32m      3\u001B[0m \u001B[0mplx\u001B[0m\u001B[1;33m.\u001B[0m\u001B[0mshow\u001B[0m\u001B[1;33m(\u001B[0m\u001B[1;33m)\u001B[0m\u001B[1;33m\u001B[0m\u001B[0m\n",
      "\u001B[1;32m~\\anaconda\\envs\\iml\\lib\\site-packages\\plotext\\_core.py\u001B[0m in \u001B[0;36mscatter\u001B[1;34m(xside, yside, marker, color, style, fillx, filly, label, *args)\u001B[0m\n\u001B[0;32m    174\u001B[0m \u001B[1;33m\u001B[0m\u001B[0m\n\u001B[0;32m    175\u001B[0m \u001B[1;32mdef\u001B[0m \u001B[0mscatter\u001B[0m\u001B[1;33m(\u001B[0m\u001B[1;33m*\u001B[0m\u001B[0margs\u001B[0m\u001B[1;33m,\u001B[0m \u001B[0mxside\u001B[0m \u001B[1;33m=\u001B[0m \u001B[1;32mNone\u001B[0m\u001B[1;33m,\u001B[0m \u001B[0myside\u001B[0m \u001B[1;33m=\u001B[0m \u001B[1;32mNone\u001B[0m\u001B[1;33m,\u001B[0m \u001B[0mmarker\u001B[0m \u001B[1;33m=\u001B[0m \u001B[1;32mNone\u001B[0m\u001B[1;33m,\u001B[0m \u001B[0mcolor\u001B[0m \u001B[1;33m=\u001B[0m \u001B[1;32mNone\u001B[0m\u001B[1;33m,\u001B[0m \u001B[0mstyle\u001B[0m \u001B[1;33m=\u001B[0m \u001B[1;32mNone\u001B[0m\u001B[1;33m,\u001B[0m \u001B[0mfillx\u001B[0m \u001B[1;33m=\u001B[0m \u001B[1;32mNone\u001B[0m\u001B[1;33m,\u001B[0m \u001B[0mfilly\u001B[0m \u001B[1;33m=\u001B[0m \u001B[1;32mNone\u001B[0m\u001B[1;33m,\u001B[0m \u001B[0mlabel\u001B[0m \u001B[1;33m=\u001B[0m \u001B[1;32mNone\u001B[0m\u001B[1;33m)\u001B[0m\u001B[1;33m:\u001B[0m\u001B[1;33m\u001B[0m\u001B[0m\n\u001B[1;32m--> 176\u001B[1;33m     \u001B[0m_figure\u001B[0m\u001B[1;33m.\u001B[0m\u001B[0m_active\u001B[0m\u001B[1;33m.\u001B[0m\u001B[0mscatter\u001B[0m\u001B[1;33m(\u001B[0m\u001B[1;33m*\u001B[0m\u001B[0margs\u001B[0m\u001B[1;33m,\u001B[0m \u001B[0mxside\u001B[0m \u001B[1;33m=\u001B[0m \u001B[0mxside\u001B[0m\u001B[1;33m,\u001B[0m \u001B[0myside\u001B[0m \u001B[1;33m=\u001B[0m \u001B[0myside\u001B[0m\u001B[1;33m,\u001B[0m \u001B[0mmarker\u001B[0m \u001B[1;33m=\u001B[0m \u001B[0mmarker\u001B[0m\u001B[1;33m,\u001B[0m \u001B[0mcolor\u001B[0m \u001B[1;33m=\u001B[0m \u001B[0mcolor\u001B[0m\u001B[1;33m,\u001B[0m \u001B[0mstyle\u001B[0m \u001B[1;33m=\u001B[0m \u001B[0mstyle\u001B[0m\u001B[1;33m,\u001B[0m \u001B[0mfillx\u001B[0m \u001B[1;33m=\u001B[0m \u001B[0mfillx\u001B[0m\u001B[1;33m,\u001B[0m \u001B[0mfilly\u001B[0m \u001B[1;33m=\u001B[0m \u001B[0mfilly\u001B[0m\u001B[1;33m,\u001B[0m \u001B[0mlabel\u001B[0m \u001B[1;33m=\u001B[0m \u001B[0mlabel\u001B[0m\u001B[1;33m)\u001B[0m\u001B[1;33m\u001B[0m\u001B[0m\n\u001B[0m\u001B[0;32m    177\u001B[0m     \u001B[0m_figure\u001B[0m\u001B[1;33m.\u001B[0m\u001B[0mshow\u001B[0m\u001B[1;33m(\u001B[0m\u001B[1;33m)\u001B[0m \u001B[1;32mif\u001B[0m \u001B[0m_figure\u001B[0m\u001B[1;33m.\u001B[0m\u001B[0m_interactive\u001B[0m \u001B[1;32melse\u001B[0m \u001B[1;32mNone\u001B[0m\u001B[1;33m\u001B[0m\u001B[0m\n\u001B[0;32m    178\u001B[0m \u001B[1;33m\u001B[0m\u001B[0m\n",
      "\u001B[1;32m~\\anaconda\\envs\\iml\\lib\\site-packages\\plotext\\_figure.py\u001B[0m in \u001B[0;36mscatter\u001B[1;34m(self, xside, yside, marker, color, style, fillx, filly, label, *args)\u001B[0m\n\u001B[0;32m    210\u001B[0m \u001B[1;33m\u001B[0m\u001B[0m\n\u001B[0;32m    211\u001B[0m     \u001B[1;32mdef\u001B[0m \u001B[0mscatter\u001B[0m\u001B[1;33m(\u001B[0m\u001B[0mself\u001B[0m\u001B[1;33m,\u001B[0m \u001B[1;33m*\u001B[0m\u001B[0margs\u001B[0m\u001B[1;33m,\u001B[0m \u001B[0mxside\u001B[0m \u001B[1;33m=\u001B[0m \u001B[1;32mNone\u001B[0m\u001B[1;33m,\u001B[0m \u001B[0myside\u001B[0m \u001B[1;33m=\u001B[0m \u001B[1;32mNone\u001B[0m\u001B[1;33m,\u001B[0m \u001B[0mmarker\u001B[0m \u001B[1;33m=\u001B[0m \u001B[1;32mNone\u001B[0m\u001B[1;33m,\u001B[0m \u001B[0mcolor\u001B[0m \u001B[1;33m=\u001B[0m \u001B[1;32mNone\u001B[0m\u001B[1;33m,\u001B[0m \u001B[0mstyle\u001B[0m \u001B[1;33m=\u001B[0m \u001B[1;32mNone\u001B[0m\u001B[1;33m,\u001B[0m \u001B[0mfillx\u001B[0m \u001B[1;33m=\u001B[0m \u001B[1;32mNone\u001B[0m\u001B[1;33m,\u001B[0m \u001B[0mfilly\u001B[0m \u001B[1;33m=\u001B[0m \u001B[1;32mNone\u001B[0m\u001B[1;33m,\u001B[0m \u001B[0mlabel\u001B[0m \u001B[1;33m=\u001B[0m \u001B[1;32mNone\u001B[0m\u001B[1;33m)\u001B[0m\u001B[1;33m:\u001B[0m\u001B[1;33m\u001B[0m\u001B[0m\n\u001B[1;32m--> 212\u001B[1;33m         \u001B[0mself\u001B[0m\u001B[1;33m.\u001B[0m\u001B[0m_draw\u001B[0m\u001B[1;33m(\u001B[0m\u001B[1;33m*\u001B[0m\u001B[0margs\u001B[0m\u001B[1;33m,\u001B[0m \u001B[0mxside\u001B[0m \u001B[1;33m=\u001B[0m \u001B[0mxside\u001B[0m\u001B[1;33m,\u001B[0m \u001B[0myside\u001B[0m \u001B[1;33m=\u001B[0m \u001B[0myside\u001B[0m\u001B[1;33m,\u001B[0m \u001B[0mlines\u001B[0m \u001B[1;33m=\u001B[0m \u001B[1;32mFalse\u001B[0m\u001B[1;33m,\u001B[0m \u001B[0mmarker\u001B[0m \u001B[1;33m=\u001B[0m \u001B[0mmarker\u001B[0m\u001B[1;33m,\u001B[0m \u001B[0mcolor\u001B[0m \u001B[1;33m=\u001B[0m \u001B[0mcolor\u001B[0m\u001B[1;33m,\u001B[0m \u001B[0mstyle\u001B[0m \u001B[1;33m=\u001B[0m \u001B[0mstyle\u001B[0m\u001B[1;33m,\u001B[0m \u001B[0mfillx\u001B[0m \u001B[1;33m=\u001B[0m \u001B[0mfillx\u001B[0m\u001B[1;33m,\u001B[0m \u001B[0mfilly\u001B[0m \u001B[1;33m=\u001B[0m \u001B[0mfilly\u001B[0m\u001B[1;33m,\u001B[0m \u001B[0mlabel\u001B[0m \u001B[1;33m=\u001B[0m \u001B[0mlabel\u001B[0m\u001B[1;33m)\u001B[0m\u001B[1;33m\u001B[0m\u001B[0m\n\u001B[0m\u001B[0;32m    213\u001B[0m \u001B[1;33m\u001B[0m\u001B[0m\n\u001B[0;32m    214\u001B[0m     \u001B[1;32mdef\u001B[0m \u001B[0mplot\u001B[0m\u001B[1;33m(\u001B[0m\u001B[0mself\u001B[0m\u001B[1;33m,\u001B[0m \u001B[1;33m*\u001B[0m\u001B[0margs\u001B[0m\u001B[1;33m,\u001B[0m \u001B[0mxside\u001B[0m \u001B[1;33m=\u001B[0m \u001B[1;32mNone\u001B[0m\u001B[1;33m,\u001B[0m \u001B[0myside\u001B[0m \u001B[1;33m=\u001B[0m \u001B[1;32mNone\u001B[0m\u001B[1;33m,\u001B[0m \u001B[0mmarker\u001B[0m \u001B[1;33m=\u001B[0m \u001B[1;32mNone\u001B[0m\u001B[1;33m,\u001B[0m \u001B[0mcolor\u001B[0m \u001B[1;33m=\u001B[0m \u001B[1;32mNone\u001B[0m\u001B[1;33m,\u001B[0m \u001B[0mstyle\u001B[0m \u001B[1;33m=\u001B[0m \u001B[1;32mNone\u001B[0m\u001B[1;33m,\u001B[0m \u001B[0mfillx\u001B[0m \u001B[1;33m=\u001B[0m \u001B[1;32mNone\u001B[0m\u001B[1;33m,\u001B[0m \u001B[0mfilly\u001B[0m \u001B[1;33m=\u001B[0m \u001B[1;32mNone\u001B[0m\u001B[1;33m,\u001B[0m \u001B[0mlabel\u001B[0m \u001B[1;33m=\u001B[0m \u001B[1;32mNone\u001B[0m\u001B[1;33m)\u001B[0m\u001B[1;33m:\u001B[0m\u001B[1;33m\u001B[0m\u001B[0m\n",
      "\u001B[1;32m~\\anaconda\\envs\\iml\\lib\\site-packages\\plotext\\_figure.py\u001B[0m in \u001B[0;36m_draw\u001B[1;34m(self, *args, **kwargs)\u001B[0m\n\u001B[0;32m    207\u001B[0m \u001B[1;33m\u001B[0m\u001B[0m\n\u001B[0;32m    208\u001B[0m     \u001B[1;32mdef\u001B[0m \u001B[0m_draw\u001B[0m\u001B[1;33m(\u001B[0m\u001B[0mself\u001B[0m\u001B[1;33m,\u001B[0m \u001B[1;33m*\u001B[0m\u001B[0margs\u001B[0m\u001B[1;33m,\u001B[0m \u001B[1;33m**\u001B[0m\u001B[0mkwargs\u001B[0m\u001B[1;33m)\u001B[0m\u001B[1;33m:\u001B[0m\u001B[1;33m\u001B[0m\u001B[0m\n\u001B[1;32m--> 209\u001B[1;33m         \u001B[0mself\u001B[0m\u001B[1;33m.\u001B[0m\u001B[0mmonitor\u001B[0m\u001B[1;33m.\u001B[0m\u001B[0mdraw\u001B[0m\u001B[1;33m(\u001B[0m\u001B[1;33m*\u001B[0m\u001B[0margs\u001B[0m\u001B[1;33m,\u001B[0m \u001B[1;33m**\u001B[0m\u001B[0mkwargs\u001B[0m\u001B[1;33m)\u001B[0m \u001B[1;32mif\u001B[0m \u001B[0mself\u001B[0m\u001B[1;33m.\u001B[0m\u001B[0m_no_plots\u001B[0m \u001B[1;32melse\u001B[0m \u001B[1;33m[\u001B[0m\u001B[1;33m[\u001B[0m\u001B[0mself\u001B[0m\u001B[1;33m.\u001B[0m\u001B[0m_get_subplot\u001B[0m\u001B[1;33m(\u001B[0m\u001B[0mrow\u001B[0m\u001B[1;33m,\u001B[0m \u001B[0mcol\u001B[0m\u001B[1;33m)\u001B[0m\u001B[1;33m.\u001B[0m\u001B[0m_draw\u001B[0m\u001B[1;33m(\u001B[0m\u001B[1;33m*\u001B[0m\u001B[0margs\u001B[0m\u001B[1;33m,\u001B[0m \u001B[1;33m**\u001B[0m\u001B[0mkwargs\u001B[0m\u001B[1;33m)\u001B[0m \u001B[1;32mfor\u001B[0m \u001B[0mcol\u001B[0m \u001B[1;32min\u001B[0m \u001B[0mself\u001B[0m\u001B[1;33m.\u001B[0m\u001B[0m_Cols\u001B[0m\u001B[1;33m]\u001B[0m \u001B[1;32mfor\u001B[0m \u001B[0mrow\u001B[0m \u001B[1;32min\u001B[0m \u001B[0mself\u001B[0m\u001B[1;33m.\u001B[0m\u001B[0m_Rows\u001B[0m\u001B[1;33m]\u001B[0m\u001B[1;33m\u001B[0m\u001B[0m\n\u001B[0m\u001B[0;32m    210\u001B[0m \u001B[1;33m\u001B[0m\u001B[0m\n\u001B[0;32m    211\u001B[0m     \u001B[1;32mdef\u001B[0m \u001B[0mscatter\u001B[0m\u001B[1;33m(\u001B[0m\u001B[0mself\u001B[0m\u001B[1;33m,\u001B[0m \u001B[1;33m*\u001B[0m\u001B[0margs\u001B[0m\u001B[1;33m,\u001B[0m \u001B[0mxside\u001B[0m \u001B[1;33m=\u001B[0m \u001B[1;32mNone\u001B[0m\u001B[1;33m,\u001B[0m \u001B[0myside\u001B[0m \u001B[1;33m=\u001B[0m \u001B[1;32mNone\u001B[0m\u001B[1;33m,\u001B[0m \u001B[0mmarker\u001B[0m \u001B[1;33m=\u001B[0m \u001B[1;32mNone\u001B[0m\u001B[1;33m,\u001B[0m \u001B[0mcolor\u001B[0m \u001B[1;33m=\u001B[0m \u001B[1;32mNone\u001B[0m\u001B[1;33m,\u001B[0m \u001B[0mstyle\u001B[0m \u001B[1;33m=\u001B[0m \u001B[1;32mNone\u001B[0m\u001B[1;33m,\u001B[0m \u001B[0mfillx\u001B[0m \u001B[1;33m=\u001B[0m \u001B[1;32mNone\u001B[0m\u001B[1;33m,\u001B[0m \u001B[0mfilly\u001B[0m \u001B[1;33m=\u001B[0m \u001B[1;32mNone\u001B[0m\u001B[1;33m,\u001B[0m \u001B[0mlabel\u001B[0m \u001B[1;33m=\u001B[0m \u001B[1;32mNone\u001B[0m\u001B[1;33m)\u001B[0m\u001B[1;33m:\u001B[0m\u001B[1;33m\u001B[0m\u001B[0m\n",
      "\u001B[1;32m~\\anaconda\\envs\\iml\\lib\\site-packages\\plotext\\_monitor.py\u001B[0m in \u001B[0;36mdraw\u001B[1;34m(self, *args, **kwargs)\u001B[0m\n\u001B[0;32m    286\u001B[0m         \u001B[0mself\u001B[0m\u001B[1;33m.\u001B[0m\u001B[0madd_xside\u001B[0m\u001B[1;33m(\u001B[0m\u001B[0mkwargs\u001B[0m\u001B[1;33m.\u001B[0m\u001B[0mget\u001B[0m\u001B[1;33m(\u001B[0m\u001B[1;34m\"xside\"\u001B[0m\u001B[1;33m)\u001B[0m\u001B[1;33m)\u001B[0m\u001B[1;33m\u001B[0m\u001B[0m\n\u001B[0;32m    287\u001B[0m         \u001B[0mself\u001B[0m\u001B[1;33m.\u001B[0m\u001B[0madd_yside\u001B[0m\u001B[1;33m(\u001B[0m\u001B[0mkwargs\u001B[0m\u001B[1;33m.\u001B[0m\u001B[0mget\u001B[0m\u001B[1;33m(\u001B[0m\u001B[1;34m\"yside\"\u001B[0m\u001B[1;33m)\u001B[0m\u001B[1;33m)\u001B[0m\u001B[1;33m\u001B[0m\u001B[0m\n\u001B[1;32m--> 288\u001B[1;33m         \u001B[0mself\u001B[0m\u001B[1;33m.\u001B[0m\u001B[0madd_data\u001B[0m\u001B[1;33m(\u001B[0m\u001B[1;33m*\u001B[0m\u001B[0margs\u001B[0m\u001B[1;33m)\u001B[0m\u001B[1;33m\u001B[0m\u001B[0m\n\u001B[0m\u001B[0;32m    289\u001B[0m         \u001B[0mself\u001B[0m\u001B[1;33m.\u001B[0m\u001B[0madd_lines\u001B[0m\u001B[1;33m(\u001B[0m\u001B[0mkwargs\u001B[0m\u001B[1;33m.\u001B[0m\u001B[0mget\u001B[0m\u001B[1;33m(\u001B[0m\u001B[1;34m\"lines\"\u001B[0m\u001B[1;33m)\u001B[0m\u001B[1;33m)\u001B[0m\u001B[1;33m\u001B[0m\u001B[0m\n\u001B[0;32m    290\u001B[0m         \u001B[0mself\u001B[0m\u001B[1;33m.\u001B[0m\u001B[0madd_markers\u001B[0m\u001B[1;33m(\u001B[0m\u001B[0mkwargs\u001B[0m\u001B[1;33m.\u001B[0m\u001B[0mget\u001B[0m\u001B[1;33m(\u001B[0m\u001B[1;34m\"marker\"\u001B[0m\u001B[1;33m)\u001B[0m\u001B[1;33m)\u001B[0m\u001B[1;33m\u001B[0m\u001B[0m\n",
      "\u001B[1;32m~\\anaconda\\envs\\iml\\lib\\site-packages\\plotext\\_monitor.py\u001B[0m in \u001B[0;36madd_data\u001B[1;34m(self, *args)\u001B[0m\n\u001B[0;32m    310\u001B[0m         \u001B[0mx\u001B[0m\u001B[1;33m,\u001B[0m \u001B[0my\u001B[0m \u001B[1;33m=\u001B[0m \u001B[0mut\u001B[0m\u001B[1;33m.\u001B[0m\u001B[0mset_data\u001B[0m\u001B[1;33m(\u001B[0m\u001B[1;33m*\u001B[0m\u001B[0margs\u001B[0m\u001B[1;33m)\u001B[0m\u001B[1;33m\u001B[0m\u001B[0m\n\u001B[0;32m    311\u001B[0m         \u001B[0mx\u001B[0m\u001B[1;33m,\u001B[0m \u001B[0mx_date\u001B[0m \u001B[1;33m=\u001B[0m \u001B[0mself\u001B[0m\u001B[1;33m.\u001B[0m\u001B[0mto_time\u001B[0m\u001B[1;33m(\u001B[0m\u001B[0mx\u001B[0m\u001B[1;33m)\u001B[0m\u001B[1;33m\u001B[0m\u001B[0m\n\u001B[1;32m--> 312\u001B[1;33m         \u001B[0my\u001B[0m\u001B[1;33m,\u001B[0m \u001B[0my_date\u001B[0m \u001B[1;33m=\u001B[0m \u001B[0mself\u001B[0m\u001B[1;33m.\u001B[0m\u001B[0mto_time\u001B[0m\u001B[1;33m(\u001B[0m\u001B[0my\u001B[0m\u001B[1;33m)\u001B[0m\u001B[1;33m\u001B[0m\u001B[0m\n\u001B[0m\u001B[0;32m    313\u001B[0m         \u001B[0mself\u001B[0m\u001B[1;33m.\u001B[0m\u001B[0mx_date\u001B[0m\u001B[1;33m[\u001B[0m\u001B[0mself\u001B[0m\u001B[1;33m.\u001B[0m\u001B[0mxside_to_pos\u001B[0m\u001B[1;33m(\u001B[0m\u001B[0mself\u001B[0m\u001B[1;33m.\u001B[0m\u001B[0mxside\u001B[0m\u001B[1;33m[\u001B[0m\u001B[1;33m-\u001B[0m\u001B[1;36m1\u001B[0m\u001B[1;33m]\u001B[0m\u001B[1;33m)\u001B[0m\u001B[1;33m]\u001B[0m \u001B[1;33m=\u001B[0m \u001B[0mx_date\u001B[0m\u001B[1;33m\u001B[0m\u001B[0m\n\u001B[0;32m    314\u001B[0m         \u001B[0mself\u001B[0m\u001B[1;33m.\u001B[0m\u001B[0my_date\u001B[0m\u001B[1;33m[\u001B[0m\u001B[0mself\u001B[0m\u001B[1;33m.\u001B[0m\u001B[0myside_to_pos\u001B[0m\u001B[1;33m(\u001B[0m\u001B[0mself\u001B[0m\u001B[1;33m.\u001B[0m\u001B[0myside\u001B[0m\u001B[1;33m[\u001B[0m\u001B[1;33m-\u001B[0m\u001B[1;36m1\u001B[0m\u001B[1;33m]\u001B[0m\u001B[1;33m)\u001B[0m\u001B[1;33m]\u001B[0m \u001B[1;33m=\u001B[0m \u001B[0my_date\u001B[0m\u001B[1;33m\u001B[0m\u001B[0m\n",
      "\u001B[1;32m~\\anaconda\\envs\\iml\\lib\\site-packages\\plotext\\_monitor.py\u001B[0m in \u001B[0;36mto_time\u001B[1;34m(self, data)\u001B[0m\n\u001B[0;32m    363\u001B[0m     \u001B[1;32mdef\u001B[0m \u001B[0mto_time\u001B[0m\u001B[1;33m(\u001B[0m\u001B[0mself\u001B[0m\u001B[1;33m,\u001B[0m \u001B[0mdata\u001B[0m\u001B[1;33m)\u001B[0m\u001B[1;33m:\u001B[0m\u001B[1;33m\u001B[0m\u001B[0m\n\u001B[0;32m    364\u001B[0m         \u001B[0mdates\u001B[0m \u001B[1;33m=\u001B[0m \u001B[0many\u001B[0m\u001B[1;33m(\u001B[0m\u001B[1;33m[\u001B[0m\u001B[0misinstance\u001B[0m\u001B[1;33m(\u001B[0m\u001B[0mel\u001B[0m\u001B[1;33m,\u001B[0m \u001B[0mstr\u001B[0m\u001B[1;33m)\u001B[0m \u001B[1;32mfor\u001B[0m \u001B[0mel\u001B[0m \u001B[1;32min\u001B[0m \u001B[0mdata\u001B[0m\u001B[1;33m]\u001B[0m\u001B[1;33m)\u001B[0m\u001B[1;33m\u001B[0m\u001B[0m\n\u001B[1;32m--> 365\u001B[1;33m         \u001B[0mdata\u001B[0m \u001B[1;33m=\u001B[0m \u001B[0mself\u001B[0m\u001B[1;33m.\u001B[0m\u001B[0mdate\u001B[0m\u001B[1;33m.\u001B[0m\u001B[0mstrings_to_time\u001B[0m\u001B[1;33m(\u001B[0m\u001B[0mdata\u001B[0m\u001B[1;33m)\u001B[0m \u001B[1;32mif\u001B[0m \u001B[0mdates\u001B[0m \u001B[1;32melse\u001B[0m \u001B[0mdata\u001B[0m\u001B[1;33m\u001B[0m\u001B[0m\n\u001B[0m\u001B[0;32m    366\u001B[0m         \u001B[1;32mreturn\u001B[0m \u001B[0mdata\u001B[0m\u001B[1;33m,\u001B[0m \u001B[0mdates\u001B[0m\u001B[1;33m\u001B[0m\u001B[0m\n\u001B[0;32m    367\u001B[0m \u001B[1;33m\u001B[0m\u001B[0m\n",
      "\u001B[1;32m~\\anaconda\\envs\\iml\\lib\\site-packages\\plotext\\_date.py\u001B[0m in \u001B[0;36mstrings_to_time\u001B[1;34m(self, strings, input_form)\u001B[0m\n\u001B[0;32m     51\u001B[0m \u001B[1;33m\u001B[0m\u001B[0m\n\u001B[0;32m     52\u001B[0m     \u001B[1;32mdef\u001B[0m \u001B[0mstrings_to_time\u001B[0m\u001B[1;33m(\u001B[0m\u001B[0mself\u001B[0m\u001B[1;33m,\u001B[0m \u001B[0mstrings\u001B[0m\u001B[1;33m,\u001B[0m \u001B[0minput_form\u001B[0m \u001B[1;33m=\u001B[0m \u001B[1;32mNone\u001B[0m\u001B[1;33m)\u001B[0m\u001B[1;33m:\u001B[0m\u001B[1;33m\u001B[0m\u001B[0m\n\u001B[1;32m---> 53\u001B[1;33m         \u001B[1;32mreturn\u001B[0m \u001B[1;33m[\u001B[0m\u001B[0mself\u001B[0m\u001B[1;33m.\u001B[0m\u001B[0mstring_to_time\u001B[0m\u001B[1;33m(\u001B[0m\u001B[0mel\u001B[0m\u001B[1;33m,\u001B[0m \u001B[0minput_form\u001B[0m\u001B[1;33m)\u001B[0m \u001B[1;32mfor\u001B[0m \u001B[0mel\u001B[0m \u001B[1;32min\u001B[0m \u001B[0mstrings\u001B[0m\u001B[1;33m]\u001B[0m\u001B[1;33m\u001B[0m\u001B[0m\n\u001B[0m\u001B[0;32m     54\u001B[0m \u001B[1;33m\u001B[0m\u001B[0m\n\u001B[0;32m     55\u001B[0m     \u001B[1;32mdef\u001B[0m \u001B[0mtime_to_string\u001B[0m\u001B[1;33m(\u001B[0m\u001B[0mself\u001B[0m\u001B[1;33m,\u001B[0m \u001B[0mtime\u001B[0m\u001B[1;33m,\u001B[0m \u001B[0moutput_form\u001B[0m \u001B[1;33m=\u001B[0m \u001B[1;32mNone\u001B[0m\u001B[1;33m)\u001B[0m\u001B[1;33m:\u001B[0m\u001B[1;33m\u001B[0m\u001B[0m\n",
      "\u001B[1;32m~\\anaconda\\envs\\iml\\lib\\site-packages\\plotext\\_date.py\u001B[0m in \u001B[0;36m<listcomp>\u001B[1;34m(.0)\u001B[0m\n\u001B[0;32m     51\u001B[0m \u001B[1;33m\u001B[0m\u001B[0m\n\u001B[0;32m     52\u001B[0m     \u001B[1;32mdef\u001B[0m \u001B[0mstrings_to_time\u001B[0m\u001B[1;33m(\u001B[0m\u001B[0mself\u001B[0m\u001B[1;33m,\u001B[0m \u001B[0mstrings\u001B[0m\u001B[1;33m,\u001B[0m \u001B[0minput_form\u001B[0m \u001B[1;33m=\u001B[0m \u001B[1;32mNone\u001B[0m\u001B[1;33m)\u001B[0m\u001B[1;33m:\u001B[0m\u001B[1;33m\u001B[0m\u001B[0m\n\u001B[1;32m---> 53\u001B[1;33m         \u001B[1;32mreturn\u001B[0m \u001B[1;33m[\u001B[0m\u001B[0mself\u001B[0m\u001B[1;33m.\u001B[0m\u001B[0mstring_to_time\u001B[0m\u001B[1;33m(\u001B[0m\u001B[0mel\u001B[0m\u001B[1;33m,\u001B[0m \u001B[0minput_form\u001B[0m\u001B[1;33m)\u001B[0m \u001B[1;32mfor\u001B[0m \u001B[0mel\u001B[0m \u001B[1;32min\u001B[0m \u001B[0mstrings\u001B[0m\u001B[1;33m]\u001B[0m\u001B[1;33m\u001B[0m\u001B[0m\n\u001B[0m\u001B[0;32m     54\u001B[0m \u001B[1;33m\u001B[0m\u001B[0m\n\u001B[0;32m     55\u001B[0m     \u001B[1;32mdef\u001B[0m \u001B[0mtime_to_string\u001B[0m\u001B[1;33m(\u001B[0m\u001B[0mself\u001B[0m\u001B[1;33m,\u001B[0m \u001B[0mtime\u001B[0m\u001B[1;33m,\u001B[0m \u001B[0moutput_form\u001B[0m \u001B[1;33m=\u001B[0m \u001B[1;32mNone\u001B[0m\u001B[1;33m)\u001B[0m\u001B[1;33m:\u001B[0m\u001B[1;33m\u001B[0m\u001B[0m\n",
      "\u001B[1;32m~\\anaconda\\envs\\iml\\lib\\site-packages\\plotext\\_date.py\u001B[0m in \u001B[0;36mstring_to_time\u001B[1;34m(self, string, input_form, time0)\u001B[0m\n\u001B[0;32m     48\u001B[0m             \u001B[1;32mreturn\u001B[0m \u001B[0mdt\u001B[0m\u001B[1;33m.\u001B[0m\u001B[0mstrptime\u001B[0m\u001B[1;33m(\u001B[0m\u001B[0mstring\u001B[0m\u001B[1;33m,\u001B[0m \u001B[0minput_form\u001B[0m\u001B[1;33m)\u001B[0m\u001B[1;33m.\u001B[0m\u001B[0mreplace\u001B[0m\u001B[1;33m(\u001B[0m\u001B[0mtzinfo\u001B[0m \u001B[1;33m=\u001B[0m \u001B[0mtz\u001B[0m\u001B[1;33m.\u001B[0m\u001B[0mutc\u001B[0m\u001B[1;33m)\u001B[0m\u001B[1;33m.\u001B[0m\u001B[0mtimestamp\u001B[0m\u001B[1;33m(\u001B[0m\u001B[1;33m)\u001B[0m \u001B[1;33m-\u001B[0m \u001B[0mtime0\u001B[0m\u001B[1;33m\u001B[0m\u001B[0m\n\u001B[0;32m     49\u001B[0m         \u001B[1;32mexcept\u001B[0m\u001B[1;33m:\u001B[0m\u001B[1;33m\u001B[0m\u001B[0m\n\u001B[1;32m---> 50\u001B[1;33m             \u001B[1;32mraise\u001B[0m \u001B[0mValueError\u001B[0m\u001B[1;33m(\u001B[0m\u001B[1;34m'Date Form should be: '\u001B[0m \u001B[1;33m+\u001B[0m \u001B[0minput_form\u001B[0m\u001B[1;33m)\u001B[0m\u001B[1;33m\u001B[0m\u001B[0m\n\u001B[0m\u001B[0;32m     51\u001B[0m \u001B[1;33m\u001B[0m\u001B[0m\n\u001B[0;32m     52\u001B[0m     \u001B[1;32mdef\u001B[0m \u001B[0mstrings_to_time\u001B[0m\u001B[1;33m(\u001B[0m\u001B[0mself\u001B[0m\u001B[1;33m,\u001B[0m \u001B[0mstrings\u001B[0m\u001B[1;33m,\u001B[0m \u001B[0minput_form\u001B[0m \u001B[1;33m=\u001B[0m \u001B[1;32mNone\u001B[0m\u001B[1;33m)\u001B[0m\u001B[1;33m:\u001B[0m\u001B[1;33m\u001B[0m\u001B[0m\n",
      "\u001B[1;31mValueError\u001B[0m: Date Form should be: %d/%m/%Y"
     ]
    }
   ],
   "source": [
    "plx.scatter(x, y)\n",
    "plx.title(\"Scatter Plot\")\n",
    "plx.show()"
   ],
   "metadata": {
    "collapsed": false
   }
  },
  {
   "cell_type": "code",
   "execution_count": 44,
   "outputs": [],
   "source": [
    "from uniplot import plot"
   ],
   "metadata": {
    "collapsed": false
   }
  },
  {
   "cell_type": "code",
   "execution_count": 49,
   "outputs": [
    {
     "name": "stdout",
     "output_type": "stream",
     "text": [
      "┌────────────────────────────────────────────────────────────┐\n",
      "│               \u001B[34m▖\u001B[0m    \u001B[34m▖\u001B[0m    \u001B[34m▖\u001B[0m│                 \u001B[34m▐\u001B[0m               │ \n",
      "│                         \u001B[34m▘\u001B[0m│                                 │ 2\n",
      "│                    \u001B[34m▘\u001B[0m \u001B[34m▗\u001B[0m   │                                 │ \n",
      "│                         \u001B[34m▌\u001B[0m│   \u001B[34m▘\u001B[0m        \u001B[34m▝\u001B[0m                    │ \n",
      "│                          │\u001B[34m▗\u001B[0m  \u001B[34m▌\u001B[0m                             │ \n",
      "│            \u001B[34m▗\u001B[0m       \u001B[34m▘\u001B[0m    \u001B[34m▌\u001B[0m│\u001B[34m▗\u001B[0m  \u001B[34m▘\u001B[0m \u001B[34m▖\u001B[0m                           │ 1\n",
      "│                    \u001B[34m▖\u001B[0m \u001B[34m▝\u001B[0m  \u001B[34m▌\u001B[0m│   \u001B[34m▖\u001B[0m                             │ \n",
      "│       \u001B[34m▗\u001B[0m    \u001B[34m▗\u001B[0m    \u001B[34m▐\u001B[0m  \u001B[34m▌\u001B[0m \u001B[34m▐\u001B[0m   │\u001B[34m▝\u001B[0m  \u001B[34m▘\u001B[0m \u001B[34m▖\u001B[0m \u001B[34m▗\u001B[0m                         │ \n",
      "│     \u001B[34m▌\u001B[0m         \u001B[34m▖\u001B[0m \u001B[34m▗\u001B[0m  \u001B[34m▌\u001B[0m \u001B[34m▐\u001B[0m  \u001B[34m▖\u001B[0m│       \u001B[34m▐\u001B[0m                         │ \n",
      "│▁▁▁▁▁▁▁▁▁▁▁▁▁▁▁\u001B[34m▖\u001B[0m▁\u001B[34m▗\u001B[0m▁▁\u001B[34m▖\u001B[0m▁▁▁▁\u001B[34m▘\u001B[0m│▁▁▁\u001B[34m▘\u001B[0m▁▁▁▁▁▁▁▁▁▁▁▁▁▁▁▁▁▁\u001B[34m▗\u001B[0m▁▁▁▁▁▁▁▁▁▁│ 0\n",
      "│            \u001B[34m▐\u001B[0m  \u001B[34m▘\u001B[0m \u001B[34m▗\u001B[0m  \u001B[34m▌\u001B[0m \u001B[34m▐\u001B[0m  \u001B[34m▌\u001B[0m│                 \u001B[34m▝\u001B[0m              \u001B[34m▝\u001B[0m│ \n",
      "│       \u001B[34m▝\u001B[0m  \u001B[34m▘\u001B[0m \u001B[34m▝\u001B[0m  \u001B[34m▘\u001B[0m         \u001B[34m▖\u001B[0m│       \u001B[34m▗\u001B[0m  \u001B[34m▘\u001B[0m    \u001B[34m▖\u001B[0m    \u001B[34m▖\u001B[0m      \u001B[34m▝\u001B[0m     │ \n",
      "│                 \u001B[34m▗\u001B[0m        │       \u001B[34m▗\u001B[0m  \u001B[34m▖\u001B[0m    \u001B[34m▘\u001B[0m         \u001B[34m▖\u001B[0m       │ \n",
      "│\u001B[34m▖\u001B[0m      \u001B[34m▗\u001B[0m    \u001B[34m▝\u001B[0m            \u001B[34m▖\u001B[0m│   \u001B[34m▖\u001B[0m \u001B[34m▌\u001B[0m \u001B[34m▐\u001B[0m  \u001B[34m▌\u001B[0m \u001B[34m▗\u001B[0m  \u001B[34m▘\u001B[0m \u001B[34m▝\u001B[0m               │ -1\n",
      "│          \u001B[34m▘\u001B[0m \u001B[34m▝\u001B[0m            \u001B[34m▌\u001B[0m│\u001B[34m▐\u001B[0m      \u001B[34m▗\u001B[0m                         │ \n",
      "│                          │\u001B[34m▗\u001B[0m  \u001B[34m▌\u001B[0m   \u001B[34m▗\u001B[0m    \u001B[34m▗\u001B[0m                    │ \n",
      "│       \u001B[34m▝\u001B[0m              \u001B[34m▗\u001B[0m  \u001B[34m▖\u001B[0m│   \u001B[34m▖\u001B[0m                             │ \n",
      "└────────────────────────────────────────────────────────────┘\n",
      "    -2         -1          0          1         2          3\n"
     ]
    }
   ],
   "source": [
    "plot(x[:, 0] ,x[:, 1], color=True)"
   ],
   "metadata": {
    "collapsed": false
   }
  },
  {
   "cell_type": "code",
   "execution_count": null,
   "outputs": [],
   "source": [],
   "metadata": {
    "collapsed": false
   }
  }
 ],
 "metadata": {
  "kernelspec": {
   "display_name": "Python 3",
   "language": "python",
   "name": "python3"
  },
  "language_info": {
   "codemirror_mode": {
    "name": "ipython",
    "version": 2
   },
   "file_extension": ".py",
   "mimetype": "text/x-python",
   "name": "python",
   "nbconvert_exporter": "python",
   "pygments_lexer": "ipython2",
   "version": "2.7.6"
  }
 },
 "nbformat": 4,
 "nbformat_minor": 0
}
